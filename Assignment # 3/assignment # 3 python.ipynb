{
 "cells": [
  {
   "cell_type": "code",
   "execution_count": 2,
   "id": "9399f117",
   "metadata": {},
   "outputs": [
    {
     "name": "stdout",
     "output_type": "stream",
     "text": [
      "Twinkle, twinkle, little star, \n",
      "\tHow I wonder what you are! \n",
      "\t\tUp above the world so high, \n",
      "\t\tLike a diamond in the sky. \n",
      "Twinkle, twinkle, little star, \n",
      "\tHow I wonder what you are!\n"
     ]
    }
   ],
   "source": [
    "'''Write a Python program to print the following string in a specific format (see the\n",
    "output).\n",
    "\n",
    "Twinkle, twinkle, little star,\n",
    "How I wonder what you are!\n",
    "Up above the world so high,\n",
    "Like a diamond in the sky.\n",
    "\n",
    "Twinkle, twinkle, little star,\n",
    "How I wonder what you are'''\n",
    "print(\"Twinkle, twinkle, little star, \\n\\tHow I wonder what you are! \\n\\t\\tUp above the world so high, \\n\\t\\tLike a diamond in the sky. \\nTwinkle, twinkle, little star, \\n\\tHow I wonder what you are!\")"
   ]
  },
  {
   "cell_type": "code",
   "execution_count": 4,
   "id": "b81c7c5d",
   "metadata": {},
   "outputs": [
    {
     "name": "stdout",
     "output_type": "stream",
     "text": [
      "Python version:  3.8.8 (default, Apr 13 2021, 15:08:03) [MSC v.1916 64 bit (AMD64)]\n"
     ]
    }
   ],
   "source": [
    "'''\n",
    "Write a Python program to get the Python version you are using'''\n",
    "import sys\n",
    "print(\"Python version: \", sys.version)"
   ]
  },
  {
   "cell_type": "code",
   "execution_count": 7,
   "id": "77bdb7f7",
   "metadata": {},
   "outputs": [
    {
     "name": "stdout",
     "output_type": "stream",
     "text": [
      "Current date and time : \n",
      " Date: 23-10-2021 \n",
      " Time: 14:55:46\n"
     ]
    }
   ],
   "source": [
    "'''\n",
    "Write a Python program to display the current date and time.'''\n",
    "import datetime\n",
    "now = datetime.datetime.now()\n",
    "print (\"Current date and time : \")\n",
    "print (now.strftime(\" Date: %d-%m-%Y \\n Time: %H:%M:%S\"))"
   ]
  },
  {
   "cell_type": "code",
   "execution_count": 9,
   "id": "3b7776fb",
   "metadata": {},
   "outputs": [
    {
     "name": "stdout",
     "output_type": "stream",
     "text": [
      "Enter radius: 3.3\n",
      "Area of circle is:  34.194599999999994\n"
     ]
    }
   ],
   "source": [
    "''''\n",
    "Write a Python program which accepts the radius of a circle from the user and compute\n",
    "the area.'''\n",
    "r = float(input(\"Enter radius: \"))\n",
    "pi = 3.14\n",
    "a = pi*r**2\n",
    "print(\"Area of circle is: \",a)"
   ]
  },
  {
   "cell_type": "code",
   "execution_count": 11,
   "id": "c5e39508",
   "metadata": {},
   "outputs": [
    {
     "name": "stdout",
     "output_type": "stream",
     "text": [
      "Enter your firs name: NIMRA\n",
      "Enter your last name: GHOUS\n",
      "In Reverse order:  GHOUS NIMRA\n"
     ]
    }
   ],
   "source": [
    "''''\n",
    "Write a Python program which accepts the user's first and last name and print them in\n",
    "reverse order with a space between them.'''\n",
    "first_name = input(\"Enter your firs name: \")\n",
    "last_name= input(\"Enter your last name: \")\n",
    "print(\"In Reverse order: \",last_name+\" \"+first_name)"
   ]
  },
  {
   "cell_type": "code",
   "execution_count": 14,
   "id": "bc0b6055",
   "metadata": {},
   "outputs": [
    {
     "name": "stdout",
     "output_type": "stream",
     "text": [
      "Enter no 1: 3\n",
      "Enter no 2: 2\n",
      "Result of addition:  5.0\n"
     ]
    }
   ],
   "source": [
    "''''\n",
    "Write a python program which takes two inputs from user and print them addition'''\n",
    "a = float(input(\"Enter no 1: \"))\n",
    "b = float(input(\"Enter no 2: \"))\n",
    "c = a + b\n",
    "print(\"Result of addition: \",c)"
   ]
  },
  {
   "cell_type": "code",
   "execution_count": 16,
   "id": "cb186b5c",
   "metadata": {},
   "outputs": [
    {
     "name": "stdout",
     "output_type": "stream",
     "text": [
      "Enter your english marks: 44\n",
      "Enter your urdu marks: 55\n",
      "Enter your math marks: 56\n",
      "Enter your isl marks: 77\n",
      "Enter your science marks: 89\n",
      "Percentage:  64.2\n",
      "Grade = C\n"
     ]
    }
   ],
   "source": [
    "''''\n",
    "Write a program which takes 5 inputs from user for different subject’s marks, total it\n",
    "and generate mark sheet using grades ?'''\n",
    "english = float(input(\"Enter your english marks: \"))\n",
    "urdu = float(input(\"Enter your urdu marks: \"))\n",
    "math = float(input(\"Enter your math marks: \"))\n",
    "isl = float(input(\"Enter your isl marks: \"))\n",
    "science = float(input(\"Enter your science marks: \"))\n",
    "sum_of_obtained_marks = english+urdu+math+science+isl\n",
    "total = 500\n",
    "percent = (sum_of_obtained_marks * 100)/total\n",
    "print(\"Percentage: \", percent)\n",
    "if percent<=100 and percent>=90:\n",
    "    print(\"Grade = A+\")\n",
    "elif percent>=80 and percent<90:\n",
    "    print(\"Grade = A\")\n",
    "elif percent>=70 and percent<80:\n",
    "    print(\"Grade = B\")\n",
    "elif percent>=60 and percent<70:\n",
    "    print(\"Grade = C\")\n",
    "elif percent>=50 and percent<60:\n",
    "    print(\"Grade = D\")\n",
    "elif percent>=40 and percent<50:\n",
    "    print(\"Grade = E\")\n",
    "elif percent>=33 and percent<40:\n",
    "    print(\"Grade = F\")\n",
    "elif percent == 0:\n",
    "    print(\"You have entered wrong!\")\n",
    "else:\n",
    "    print(\"Fail\")\n"
   ]
  },
  {
   "cell_type": "code",
   "execution_count": 21,
   "id": "12224888",
   "metadata": {},
   "outputs": [
    {
     "name": "stdout",
     "output_type": "stream",
     "text": [
      "Enter any no: 26\n",
      "Even\n"
     ]
    }
   ],
   "source": [
    "''''\n",
    "Write a program which take input from user and identify that the given number is even\n",
    "or odd?'''\n",
    "a = int(input(\"Enter any no: \"))\n",
    "if (a%2) == 0:\n",
    "    print(\"Even\")\n",
    "else:\n",
    "    print(\"Odd\")"
   ]
  },
  {
   "cell_type": "code",
   "execution_count": 26,
   "id": "ca2f519a",
   "metadata": {},
   "outputs": [
    {
     "name": "stdout",
     "output_type": "stream",
     "text": [
      "Length of list:  10\n"
     ]
    }
   ],
   "source": [
    "''''\n",
    "Write a program which print the length of the list?'''\n",
    "list_a = [1,2,3,4,5,6,7,8,9,\"Pakistan\"]\n",
    "print(\"Length of list: \",len(list_a))"
   ]
  },
  {
   "cell_type": "code",
   "execution_count": 29,
   "id": "3f3124e6",
   "metadata": {},
   "outputs": [
    {
     "name": "stdout",
     "output_type": "stream",
     "text": [
      "sum:  45\n"
     ]
    }
   ],
   "source": [
    "''''\n",
    "10.Write a Python program to sum all the numeric items in a list?'''\n",
    "list_a = [1,2,3,4,5,6,7,8,9]\n",
    "print(\"sum: \", sum(list_a))"
   ]
  },
  {
   "cell_type": "code",
   "execution_count": 30,
   "id": "e49d20dc",
   "metadata": {},
   "outputs": [
    {
     "name": "stdout",
     "output_type": "stream",
     "text": [
      "Largest no in list_2:  99\n"
     ]
    }
   ],
   "source": [
    "''''\n",
    "11.Write a Python program to get the largest number from a numeric list.'''\n",
    "list_2 = [1,2,32,99,5,63,7,8,92]\n",
    "print(\"Largest no in list_2: \", max(list_2))\n"
   ]
  },
  {
   "cell_type": "code",
   "execution_count": 33,
   "id": "6f6ccdfa",
   "metadata": {},
   "outputs": [
    {
     "name": "stdout",
     "output_type": "stream",
     "text": [
      "[1, 1, 2, 3]\n"
     ]
    }
   ],
   "source": [
    "''''\n",
    "Take a list, say for example this one:\n",
    "a = [1, 1, 2, 3, 5, 8, 13, 21, 34, 55, 89]\n",
    "Write a program that prints out all the elements of the list that are less than 5.'''\n",
    "a = [1, 1, 2, 3, 5, 8, 13, 21, 34, 55, 89]\n",
    "print(a[:4])"
   ]
  },
  {
   "cell_type": "code",
   "execution_count": null,
   "id": "02d997c5",
   "metadata": {},
   "outputs": [],
   "source": []
  }
 ],
 "metadata": {
  "kernelspec": {
   "display_name": "Python 3",
   "language": "python",
   "name": "python3"
  },
  "language_info": {
   "codemirror_mode": {
    "name": "ipython",
    "version": 3
   },
   "file_extension": ".py",
   "mimetype": "text/x-python",
   "name": "python",
   "nbconvert_exporter": "python",
   "pygments_lexer": "ipython3",
   "version": "3.8.8"
  }
 },
 "nbformat": 4,
 "nbformat_minor": 5
}
